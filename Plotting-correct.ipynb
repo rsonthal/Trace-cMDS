{
 "cells": [
  {
   "cell_type": "code",
   "execution_count": 1,
   "metadata": {},
   "outputs": [
    {
     "name": "stderr",
     "output_type": "stream",
     "text": [
      "┌ Info: For saving to png with the Plotly backend PlotlyBase has to be installed.\n",
      "└ @ Plots /home/rsonthal/.julia/packages/Plots/lmp2A/src/backends.jl:372\n"
     ]
    },
    {
     "data": {
      "text/plain": [
       "Plots.GRBackend()"
      ]
     },
     "execution_count": 1,
     "metadata": {},
     "output_type": "execute_result"
    }
   ],
   "source": [
    "using Plots, LinearAlgebra, ProgressMeter, SparseArrays, Random, PyCall, Statistics, Distances\n",
    "using FileIO, CSV, DataFrames, JLD, MLDatasets\n",
    "using LightGraphs\n",
    "#using Interact\n",
    "plotly()\n",
    "\n",
    "np = pyimport(\"numpy\")\n",
    "sk = pyimport(\"sklearn\")\n",
    "torch = pyimport(\"torch\")\n",
    "sk.manidold = pyimport(\"sklearn.manifold\") \n",
    "\n",
    "include(\"EDM.jl\")\n",
    "\n",
    "gr(linewidth = 5, ytickfontsize = 12, xtickfontsize = 12, labelfontsize = 15, legendfontsize = 12)"
   ]
  },
  {
   "cell_type": "code",
   "execution_count": 2,
   "metadata": {},
   "outputs": [
    {
     "data": {
      "text/plain": [
       "smooth (generic function with 2 methods)"
      ]
     },
     "execution_count": 2,
     "metadata": {},
     "output_type": "execute_result"
    }
   ],
   "source": [
    "function smooth(A, k = 7)\n",
    "    B = zeros(length(A))\n",
    "    n = length(A)\n",
    "    for i = 1:length(B)\n",
    "        count = 0\n",
    "        for j = 1:k\n",
    "            idx = j-Int(ceil(k/2))\n",
    "            if i+idx >= 1 && i+idx <= n\n",
    "                count += 1\n",
    "                B[i] += A[i+idx]\n",
    "            end\n",
    "        end\n",
    "        B[i] = B[i]/count\n",
    "    end\n",
    "    \n",
    "    return B\n",
    "end"
   ]
  },
  {
   "cell_type": "markdown",
   "metadata": {},
   "source": [
    "# MNIST Plots"
   ]
  },
  {
   "cell_type": "code",
   "execution_count": 45,
   "metadata": {},
   "outputs": [],
   "source": [
    "dictM = load(\"MNIST-missing70-correct-lower.jld\")\n",
    "dictI = load(\"MNIST-isomap-correct-lower.jld\")\n",
    "dictP = load(\"MNIST-perturbed1,5-correct-lower.jld\")\n",
    "\n",
    "\n",
    "mds_acc_NN_P = torch.load(\"mds_acc-MNIST-NN-perturbed1,4-new-perturb\")[:numpy]()\n",
    "lower_mds_acc_NN_P = torch.load(\"lower_mds_acc-MNIST-NN-perturbed1,4-new-perturb\")[:numpy]()\n",
    "mds_acc_NN_I = torch.load(\"mds_acc-MNIST-NN-isomap-correct-lower\")[:numpy]()\n",
    "lower_mds_acc_NN_I = torch.load(\"lower_mds_acc-MNIST-NN-isomap-correct-lower\")[:numpy]();\n",
    "mds_acc_NN_M = torch.load(\"mds_acc-MNIST-NN-missing70-correct-lower\")[:numpy]()\n",
    "lower_mds_acc_NN_M = torch.load(\"lower_mds_acc-MNIST-NN-missing70-correct-lower\")[:numpy]();"
   ]
  },
  {
   "cell_type": "code",
   "execution_count": 46,
   "metadata": {},
   "outputs": [],
   "source": [
    "mds_accM = dictM[\"mds accuracy\"][:,1]\n",
    "mds_accI = dictI[\"mds accuracy\"][:,1]\n",
    "mds_accP = dictP[\"mds accuracy\"][:,1]\n",
    "\n",
    "lower_mds_accM = dictM[\"lower mds accuracy\"][:,1]\n",
    "lower_mds_accI = dictI[\"lower mds accuracy\"][:,1]\n",
    "lower_mds_accP = dictP[\"lower mds accuracy\"][:,1]\n",
    "\n",
    "true_accM = dictM[\"true accuracy\"][:,1]\n",
    "true_accP = dictP[\"true accuracy\"][:,1]\n",
    "true_accI = dictI[\"true accuracy\"][:,1]\n",
    "\n",
    "lower_accM = dictM[\"lower acuracy\"][:,1]\n",
    "lower_accP = dictP[\"lower acuracy\"][:,1]\n",
    "lower_accI = dictI[\"lower acuracy\"][:,1];"
   ]
  },
  {
   "cell_type": "code",
   "execution_count": 47,
   "metadata": {},
   "outputs": [
    {
     "data": {
      "text/plain": [
       "249"
      ]
     },
     "execution_count": 47,
     "metadata": {},
     "output_type": "execute_result"
    }
   ],
   "source": [
    "TM = argmin(mds_accM) - 1\n",
    "TP = argmin(mds_accP) - 1\n",
    "TI = argmin(mds_accI) - 1"
   ]
  },
  {
   "cell_type": "code",
   "execution_count": 48,
   "metadata": {},
   "outputs": [],
   "source": [
    "plot(collect(2:TM+1), mds_accM[1:TM], xlabel = \"Dimension\", label = \"cMDS\", ylabel = \"Accuracy\")\n",
    "plot!(collect(2:TM+1), lower_mds_accM[1:TM], xlabel = \"Dimension\", label = \"Lower + MDS\")\n",
    "plot!(collect(2:TM+1), lower_accM[1:TM], xlabel = \"Dimension\", label = \"Lower\")\n",
    "plot!(collect(2:TM+1), true_accM[1:TM], xlabel = \"Dimension\", label = \"True\", legend = :bottomleft)\n",
    "savefig(\"Missing KNN MNIST\")"
   ]
  },
  {
   "cell_type": "code",
   "execution_count": 49,
   "metadata": {},
   "outputs": [],
   "source": [
    "plot(collect(2:TP+1), mds_accP[1:TP], xlabel = \"Dimension\", label = \"cMDS\", ylabel = \"Accuracy\")\n",
    "plot!(collect(2:TP+1), lower_mds_accP[1:TP], xlabel = \"Dimension\", label = \"Lower + MDS\")\n",
    "plot!(collect(2:TP+1), lower_accP[1:TP], xlabel = \"Dimension\", label = \"Lower\")\n",
    "plot!(collect(2:TP+1), true_accP[1:TP], xlabel = \"Dimension\", label = \"True\", legend = :bottomleft)\n",
    "savefig(\"Perturbed KNN MNIST\")"
   ]
  },
  {
   "cell_type": "code",
   "execution_count": 23,
   "metadata": {},
   "outputs": [],
   "source": [
    "plot(collect(2:TI+1), mds_accI[1:TI], xlabel = \"Dimension\", label = \"cMDS\", ylabel = \"Accuracy\")\n",
    "plot!(collect(2:TI+1), lower_mds_accI[1:TI], xlabel = \"Dimension\", label = \"Lower + MDS\")\n",
    "plot!(collect(2:TI+1), lower_accI[1:TI], xlabel = \"Dimension\", label = \"Lower\")\n",
    "plot!(collect(2:TI+1), true_accI[1:TI], xlabel = \"Dimension\", label = \"True\", legend = :bottomleft)\n",
    "savefig(\"Isomap KNN MNIST\")"
   ]
  },
  {
   "cell_type": "code",
   "execution_count": 51,
   "metadata": {},
   "outputs": [],
   "source": [
    "plot(collect(1:1000-1),mds_acc_NN_P[2:1000], xlabel = \"Dimension\", label = \"cMDS\", ylabel = \"Accuracy\")\n",
    "plot!(collect(1:1000-1),lower_mds_acc_NN_P[2:1000], label = \"lower + cMDS\", legend = :bottomleft)\n",
    "savefig(\"Perturbed NN MNIST\")"
   ]
  },
  {
   "cell_type": "code",
   "execution_count": 52,
   "metadata": {},
   "outputs": [],
   "source": [
    "plot(collect(1:990-1),mds_acc_NN_I[2:990], xlabel = \"Dimension\", label = \"cMDS\", ylabel = \"Accuracy\")\n",
    "plot!(collect(1:990-1),lower_mds_acc_NN_I[2:990], label = \"lower + cMDS\", legend = :bottomleft)\n",
    "savefig(\"Isomap NN MNIST\")"
   ]
  },
  {
   "cell_type": "code",
   "execution_count": 53,
   "metadata": {},
   "outputs": [],
   "source": [
    "plot(collect(1:1053-1),mds_acc_NN_M[2:end], xlabel = \"Dimension\", label = \"cMDS\", ylabel = \"Accuracy\")\n",
    "plot!(collect(1:1053-1),lower_mds_acc_NN_M[2:end], label = \"lower + cMDS\", legend = :bottomleft)\n",
    "savefig(\"Missing NN MNIST\")"
   ]
  },
  {
   "cell_type": "markdown",
   "metadata": {},
   "source": [
    "# Fashion MNIST Plots"
   ]
  },
  {
   "cell_type": "code",
   "execution_count": 72,
   "metadata": {},
   "outputs": [],
   "source": [
    "dictM = load(\"FMNIST-missing70-correct-lower.jld\")\n",
    "dictI = load(\"FMNIST-isomap-correct-lower.jld\")\n",
    "dictP = load(\"FMNIST-perturbed2,1-correct-lower.jld\")\n",
    "\n",
    "\n",
    "mds_acc_NN_P = torch.load(\"mds_acc-FMNIST-NN-perturbed-new-perturb\")[:numpy]()\n",
    "lower_mds_acc_NN_P = torch.load(\"lower_mds_acc-FMNIST-NN-perturbed-new-perturb\")[:numpy]()\n",
    "mds_acc_NN_I = torch.load(\"mds_acc-FMNIST-NN-isomap-correct-lower\")[:numpy]()\n",
    "lower_mds_acc_NN_I = torch.load(\"lower_mds_acc-FMNIST-NN-isomap-correct-lower\")[:numpy]();\n",
    "mds_acc_NN_M = torch.load(\"mds_acc-FMNIST-NN-missing70-correct-lower\")[:numpy]()\n",
    "lower_mds_acc_NN_M = torch.load(\"lower_mds_acc-FMNIST-NN-missing70-correct-lower\")[:numpy]();"
   ]
  },
  {
   "cell_type": "code",
   "execution_count": 73,
   "metadata": {},
   "outputs": [],
   "source": [
    "mds_accM = dictM[\"mds accuracy\"][:,1]\n",
    "mds_accI = dictI[\"mds accuracy\"][:,1]\n",
    "mds_accP = dictP[\"mds accuracy\"][:,1]\n",
    "\n",
    "lower_mds_accM = dictM[\"lower mds accuracy\"][:,1]\n",
    "lower_mds_accI = dictI[\"lower mds accuracy\"][:,1]\n",
    "lower_mds_accP = dictP[\"lower mds accuracy\"][:,1]\n",
    "\n",
    "true_accM = dictM[\"true accuracy\"][:,1]\n",
    "true_accP = dictP[\"true accuracy\"][:,1]\n",
    "true_accI = dictI[\"true accuracy\"][:,1]\n",
    "\n",
    "lower_accM = dictM[\"lower acuracy\"][:,1]\n",
    "lower_accP = dictP[\"lower acuracy\"][:,1]\n",
    "lower_accI = dictI[\"lower acuracy\"][:,1];"
   ]
  },
  {
   "cell_type": "code",
   "execution_count": 74,
   "metadata": {},
   "outputs": [
    {
     "data": {
      "text/plain": [
       "255"
      ]
     },
     "execution_count": 74,
     "metadata": {},
     "output_type": "execute_result"
    }
   ],
   "source": [
    "TM = argmin(mds_accM) - 1\n",
    "TP = argmin(mds_accP) - 1\n",
    "TI = argmin(mds_accI) - 1"
   ]
  },
  {
   "cell_type": "code",
   "execution_count": 75,
   "metadata": {},
   "outputs": [],
   "source": [
    "plot(collect(2:TM+1), mds_accM[1:TM], xlabel = \"Dimension\", label = \"cMDS\", ylabel = \"Accuracy\")\n",
    "plot!(collect(2:TM+1), lower_mds_accM[1:TM], xlabel = \"Dimension\", label = \"Lower + MDS\")\n",
    "plot!(collect(2:TM+1), lower_accM[1:TM], xlabel = \"Dimension\", label = \"Lower\")\n",
    "plot!(collect(2:TM+1), true_accM[1:TM], xlabel = \"Dimension\", label = \"True\", legend = :bottomleft)\n",
    "savefig(\"Missing KNN FMNIST\")"
   ]
  },
  {
   "cell_type": "code",
   "execution_count": 76,
   "metadata": {},
   "outputs": [],
   "source": [
    "plot(collect(2:TP+1), mds_accP[1:TP], xlabel = \"Dimension\", label = \"cMDS\", ylabel = \"Accuracy\")\n",
    "plot!(collect(2:TP+1), lower_mds_accP[1:TP], xlabel = \"Dimension\", label = \"Lower + MDS\")\n",
    "plot!(collect(2:TP+1), lower_accP[1:TP], xlabel = \"Dimension\", label = \"Lower\")\n",
    "plot!(collect(2:TP+1), true_accP[1:TP], xlabel = \"Dimension\", label = \"True\", legend = :bottomleft)\n",
    "savefig(\"Perturbed KNN FMNIST\")"
   ]
  },
  {
   "cell_type": "code",
   "execution_count": 77,
   "metadata": {},
   "outputs": [],
   "source": [
    "plot(collect(2:TI+1), mds_accI[1:TI], xlabel = \"Dimension\", label = \"cMDS\", ylabel = \"Accuracy\")\n",
    "plot!(collect(2:TI+1), lower_mds_accI[1:TI], xlabel = \"Dimension\", label = \"Lower + MDS\")\n",
    "plot!(collect(2:TI+1), lower_accI[1:TI], xlabel = \"Dimension\", label = \"Lower\")\n",
    "plot!(collect(2:TI+1), true_accI[1:TI], xlabel = \"Dimension\", label = \"True\", legend = :bottomleft)\n",
    "savefig(\"Isomap KNN FMNIST\")"
   ]
  },
  {
   "cell_type": "code",
   "execution_count": 79,
   "metadata": {},
   "outputs": [],
   "source": [
    "plot(collect(1:1000-1),mds_acc_NN_P[2:end], xlabel = \"Dimension\", label = \"cMDS\", ylabel = \"Accuracy\")\n",
    "plot!(collect(1:1000-1),lower_mds_acc_NN_P[2:end], label = \"lower + cMDS\", legend = :bottomleft)\n",
    "savefig(\"Perturbed NN FMNIST\")"
   ]
  },
  {
   "cell_type": "code",
   "execution_count": 80,
   "metadata": {},
   "outputs": [],
   "source": [
    "plot(collect(1:1010-1),smooth(mds_acc_NN_I[2:end]), xlabel = \"Dimension\", label = \"cMDS\", ylabel = \"Accuracy\")\n",
    "plot!(collect(1:1010-1),smooth(lower_mds_acc_NN_I[2:end]), label = \"lower + cMDS\", legend = :bottomleft)\n",
    "savefig(\"Isomap NN FMNIST\")"
   ]
  },
  {
   "cell_type": "code",
   "execution_count": 81,
   "metadata": {},
   "outputs": [],
   "source": [
    "plot(collect(1:1070-1),smooth(mds_acc_NN_M[2:end]), xlabel = \"Dimension\", label = \"cMDS\", ylabel = \"Accuracy\")\n",
    "plot!(collect(1:1070-1),smooth(lower_mds_acc_NN_M[2:end]), label = \"lower + cMDS\", legend = :bottomleft)\n",
    "savefig(\"Missing NN FMNIST\")"
   ]
  },
  {
   "cell_type": "markdown",
   "metadata": {},
   "source": [
    "# Cifar 10 Plots"
   ]
  },
  {
   "cell_type": "code",
   "execution_count": 63,
   "metadata": {},
   "outputs": [],
   "source": [
    "dictM = load(\"cifar-missing70-correct-lower.jld\")\n",
    "dictI = load(\"cifar-isomap-correct-lower.jld\")\n",
    "dictP = load(\"cifar-perturbed5,8-correct-lower.jld\")\n",
    "\n",
    "\n",
    "mds_acc_NN_P = torch.load(\"mds_acc-cifar-NN-perturbed-new-perturb\")[:numpy]()\n",
    "lower_mds_acc_NN_P = torch.load(\"lower_mds_acc-cifar-NN-pertubred-new-perturb\")[:numpy]()\n",
    "mds_acc_NN_I = torch.load(\"mds_acc-cifar-NN-isomap-correct-lower\")[:numpy]()\n",
    "lower_mds_acc_NN_I = torch.load(\"lower_mds_acc-cifar-NN-isomap-correct-lower\")[:numpy]();\n",
    "mds_acc_NN_M = torch.load(\"mds_acc-cifar-NN-missing70-correct-lower\")[:numpy]()\n",
    "lower_mds_acc_NN_M = torch.load(\"lower_mds_acc-cifar-NN-missing70-correct-lower\")[:numpy]();"
   ]
  },
  {
   "cell_type": "code",
   "execution_count": 64,
   "metadata": {},
   "outputs": [],
   "source": [
    "mds_accM = dictM[\"mds accuracy\"][:,1]\n",
    "mds_accI = dictI[\"mds accuracy\"][:,1]\n",
    "mds_accP = dictP[\"mds accuracy\"][:,1]\n",
    "\n",
    "lower_mds_accM = dictM[\"lower mds accuracy\"][:,1]\n",
    "lower_mds_accI = dictI[\"lower mds accuracy\"][:,1]\n",
    "lower_mds_accP = dictP[\"lower mds accuracy\"][:,1]\n",
    "\n",
    "true_accM = dictM[\"true accuracy\"][:,1]\n",
    "true_accP = dictP[\"true accuracy\"][:,1]\n",
    "true_accI = dictI[\"true accuracy\"][:,1]\n",
    "\n",
    "lower_accM = dictM[\"lower acuracy\"][:,1]\n",
    "lower_accP = dictP[\"lower acuracy\"][:,1]\n",
    "lower_accI = dictI[\"lower acuracy\"][:,1];"
   ]
  },
  {
   "cell_type": "code",
   "execution_count": 65,
   "metadata": {},
   "outputs": [
    {
     "data": {
      "text/plain": [
       "277"
      ]
     },
     "execution_count": 65,
     "metadata": {},
     "output_type": "execute_result"
    }
   ],
   "source": [
    "TM = argmin(mds_accM) - 1\n",
    "TP = argmin(mds_accP) - 1\n",
    "TI = argmin(mds_accI) - 1"
   ]
  },
  {
   "cell_type": "code",
   "execution_count": 66,
   "metadata": {},
   "outputs": [],
   "source": [
    "plot(collect(2:TM+1), mds_accM[1:TM], xlabel = \"Dimension\", label = \"cMDS\", ylabel = \"Accuracy\")\n",
    "plot!(collect(2:TM+1), lower_mds_accM[1:TM], xlabel = \"Dimension\", label = \"Lower + MDS\")\n",
    "plot!(collect(2:TM+1), lower_accM[1:TM], xlabel = \"Dimension\", label = \"Lower\")\n",
    "plot!(collect(2:TM+1), true_accM[1:TM], xlabel = \"Dimension\", label = \"True\", legend = :bottomleft)\n",
    "savefig(\"Missing KNN CIFAR\")"
   ]
  },
  {
   "cell_type": "code",
   "execution_count": 67,
   "metadata": {},
   "outputs": [],
   "source": [
    "plot(collect(2:TP+1), mds_accP[1:TP], xlabel = \"Dimension\", label = \"cMDS\", ylabel = \"Accuracy\")\n",
    "plot!(collect(2:TP+1), lower_mds_accP[1:TP], xlabel = \"Dimension\", label = \"Lower + MDS\")\n",
    "plot!(collect(2:TP+1), lower_accP[1:TP], xlabel = \"Dimension\", label = \"Lower\")\n",
    "plot!(collect(2:TP+1), true_accP[1:TP], xlabel = \"Dimension\", label = \"True\", legend = :bottomleft)\n",
    "savefig(\"Perturbed KNN CIFAR\")"
   ]
  },
  {
   "cell_type": "code",
   "execution_count": 68,
   "metadata": {},
   "outputs": [],
   "source": [
    "plot(collect(2:TI+1), mds_accI[1:TI], xlabel = \"Dimension\", label = \"cMDS\", ylabel = \"Accuracy\")\n",
    "plot!(collect(2:TI+1), lower_mds_accI[1:TI], xlabel = \"Dimension\", label = \"Lower + MDS\")\n",
    "plot!(collect(2:TI+1), lower_accI[1:TI], xlabel = \"Dimension\", label = \"Lower\")\n",
    "plot!(collect(2:TI+1), true_accI[1:TI], xlabel = \"Dimension\", label = \"True\", legend = :bottomleft)\n",
    "savefig(\"Isomap KNN CIFAR\")"
   ]
  },
  {
   "cell_type": "code",
   "execution_count": 69,
   "metadata": {},
   "outputs": [],
   "source": [
    "plot(collect(1:1052),smooth(mds_acc_NN_I[2:end],25), xlabel = \"Dimension\", label = \"cMDS\", ylabel = \"Accuracy\")\n",
    "plot!(collect(1:1052),smooth(lower_mds_acc_NN_I[2:end],25), label = \"lower + cMDS\", legend = :bottomleft)\n",
    "savefig(\"Isomap NN CIFAR\")"
   ]
  },
  {
   "cell_type": "code",
   "execution_count": 70,
   "metadata": {},
   "outputs": [],
   "source": [
    "plot(collect(1:1000-1),smooth(mds_acc_NN_P[2:1000],7), xlabel = \"Dimension\", label = \"cMDS\", ylabel = \"Accuracy\")\n",
    "plot!(collect(1:1000-1),smooth(lower_mds_acc_NN_P[2:1000],7), label = \"lower + cMDS\", legend = :bottomleft)\n",
    "savefig(\"Perturbed NN CIFAR\")"
   ]
  },
  {
   "cell_type": "code",
   "execution_count": 71,
   "metadata": {},
   "outputs": [],
   "source": [
    "plot(collect(1:1052),smooth(mds_acc_NN_M[2:end],7), xlabel = \"Dimension\", label = \"cMDS\", ylabel = \"Accuracy\")\n",
    "plot!(collect(1:1052),smooth(lower_mds_acc_NN_M[2:end],7), label = \"lower + cMDS\", legend = :bottomleft)\n",
    "savefig(\"Missing NN CIFAR\")"
   ]
  },
  {
   "cell_type": "code",
   "execution_count": null,
   "metadata": {},
   "outputs": [],
   "source": []
  },
  {
   "cell_type": "code",
   "execution_count": null,
   "metadata": {},
   "outputs": [],
   "source": []
  },
  {
   "cell_type": "code",
   "execution_count": null,
   "metadata": {},
   "outputs": [],
   "source": []
  }
 ],
 "metadata": {
  "kernelspec": {
   "display_name": "Julia 1.5.3",
   "language": "julia",
   "name": "julia-1.5"
  },
  "language_info": {
   "file_extension": ".jl",
   "mimetype": "application/julia",
   "name": "julia",
   "version": "1.5.3"
  }
 },
 "nbformat": 4,
 "nbformat_minor": 4
}
